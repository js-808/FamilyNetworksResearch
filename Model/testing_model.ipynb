{
 "cells": [
  {
   "cell_type": "code",
   "execution_count": null,
   "id": "planned-rebel",
   "metadata": {},
   "outputs": [],
   "source": [
    "from family_network_model import *\n",
    "from matplotlib import pyplot as plt\n",
    "import networkx as nx\n",
    "import ast\n",
    "import pickle"
   ]
  },
  {
   "cell_type": "markdown",
   "id": "cheap-scott",
   "metadata": {},
   "source": [
    "## Run Model"
   ]
  },
  {
   "cell_type": "code",
   "execution_count": null,
   "id": "optimum-segment",
   "metadata": {},
   "outputs": [],
   "source": [
    "# get data\n",
    "\n",
    "# marriage distance data\n",
    "with open('smdistances.txt') as f:\n",
    "    sm_dis = f.readline()\n",
    "# San Marino marriage distances w/o infinite distances\n",
    "smdistances = ast.literal_eval(sm_dis)\n",
    "\n",
    "# number of infinite marriage distances \n",
    "inf = 4316\n",
    "\n",
    "# number of children data\n",
    "with open('smchildren.txt') as f:\n",
    "    sm_child = f.readline()\n",
    "# San Marino number of children\n",
    "smchildren = ast.literal_eval(sm_child)\n",
    "\n",
    "# probability of marriage-- marriage_edges*2 / total_nodes\n",
    "P = (8168*2)/28586\n",
    "\n",
    "# probability of non-connected marriage-- not_children / all_married nodes (not_children are nodes that are married but are not children)\n",
    "NCP = 2672/15696"
   ]
  },
  {
   "cell_type": "code",
   "execution_count": null,
   "id": "colored-headquarters",
   "metadata": {},
   "outputs": [],
   "source": [
    "# initialize parameters\n",
    "n = 99   # n+1 = number of people in network\n",
    "gen = 3  # use small number of generations for testing\n",
    "name = 'test' # change every time you run model if you want to save that specific output\n",
    "marriage_dist = smdistances\n",
    "children_dist = smchildren\n",
    "p = P\n",
    "ncp = NCP\n",
    "infdis = round((inf/8168 - (NCP/2))*8168)\n",
    "\n",
    "\n",
    "# run model\n",
    "G, D, unions, children, infs = human_family_network(n, gen, marriage_dist, p, ncp, infdis, children_dist, name)\n",
    "\n",
    "# visualize resulting network\n",
    "nx.draw(G, with_labels=True, font_weight='bold')"
   ]
  },
  {
   "cell_type": "markdown",
   "id": "forty-delivery",
   "metadata": {},
   "source": [
    "## Analyze Model"
   ]
  },
  {
   "cell_type": "code",
   "execution_count": null,
   "id": "natural-publication",
   "metadata": {},
   "outputs": [],
   "source": [
    "def model_marriage_dis(unions, D):\n",
    "    \"\"\"Find distances of marriages formed in modeled network--used to compare to original data of distances\n",
    "    Parameters:\n",
    "                unions (list): list of all unions in modeled network\n",
    "                D (array): matrix of distances between all nodes in modeled network\n",
    "    Returns:\n",
    "                distances (list): list of distances to marriage in modeled network\n",
    "    \n",
    "    \"\"\"\n",
    "\n",
    "    distances = []\n",
    "\n",
    "    for pair in unions:\n",
    "        p1, p2 = pair\n",
    "        distances.append(D[p1][p2])\n",
    "        \n",
    "    return distances"
   ]
  },
  {
   "cell_type": "markdown",
   "id": "domestic-mandate",
   "metadata": {},
   "source": [
    "### Visualize distribution of union distances at each generation"
   ]
  },
  {
   "cell_type": "code",
   "execution_count": null,
   "id": "effective-portugal",
   "metadata": {},
   "outputs": [],
   "source": [
    "for i in range(0, gen+2):\n",
    "    print(\"Generation :\", i)\n",
    "\n",
    "    # read in files\n",
    "    gpickle_file = nx.read_gpickle(\"test_G{}.gpickle\".format(i))\n",
    "    D_file = np.load(\"test_D{}.npy\".format(i))\n",
    "    with open ('test_U{}'.format(i), 'rb') as fup:\n",
    "        unions_file = pickle.load(fup)\n",
    "    with open('test_C{}'.format(i), 'rb') as fcp:\n",
    "        children_file = pickle.load(fcp)\n",
    "\n",
    "    # assign names \n",
    "    G = gpickle_file\n",
    "    unions = unions_file\n",
    "    D = D_file\n",
    "    children = children_file\n",
    "\n",
    "    # network size\n",
    "    print(\"Number of nodes: \", len(G.nodes))\n",
    "\n",
    "    # visualize distances\n",
    "    distances = model_marriage_dis(unions, D)\n",
    "    d = np.array(distances)\n",
    "    mask1 = d < 100\n",
    "    mask2 = d >= 100\n",
    "    print(\"Number of marriages: \", len(unions))\n",
    "    print(\"Number of infinite marriages: \", len(d[mask2]))\n",
    "    \n",
    "    plt.hist(d[mask1])\n",
    "    plt.title(\"Generation {}\".format(i))\n",
    "    plt.show()\n",
    "\n",
    "plt.hist(smdistances, color='r')\n",
    "plt.title(\"San Marino Family Network\")\n",
    "plt.show()"
   ]
  },
  {
   "cell_type": "markdown",
   "id": "loaded-cradle",
   "metadata": {},
   "source": [
    "### Visualize distribution of number of children at each generation"
   ]
  },
  {
   "cell_type": "code",
   "execution_count": null,
   "id": "surrounded-friend",
   "metadata": {},
   "outputs": [],
   "source": [
    "for i in range(1, gen+2):\n",
    "    print(\"Generation :\", i)\n",
    "\n",
    "    # read in files\n",
    "    gpickle_file = nx.read_gpickle(\"test_G{}.gpickle\".format(i))\n",
    "    D_file = np.load(\"test_D{}.npy\".format(i))\n",
    "    with open ('test_U{}'.format(i), 'rb') as fup:\n",
    "        unions_file = pickle.load(fup)\n",
    "    with open('test_C{}'.format(i), 'rb') as fcp:\n",
    "        children_file = pickle.load(fcp)\n",
    "\n",
    "    # assign names \n",
    "    G = gpickle_file\n",
    "    unions = unions_file\n",
    "    D = D_file\n",
    "    children = children_file\n",
    "\n",
    "    # network size\n",
    "    print(\"Number of nodes: \", len(G.nodes))\n",
    "\n",
    "    plt.hist(children, color='g', bins=6)\n",
    "    plt.title(\"Generation {}\".format(i))\n",
    "    plt.show()\n",
    "\n",
    "plt.hist(smchildren, color='r', bins=6)\n",
    "plt.title(\"San Marino Family Network\")\n",
    "plt.show()"
   ]
  },
  {
   "cell_type": "markdown",
   "id": "verbal-filling",
   "metadata": {},
   "source": [
    "### Visualize largest connected component of network at each generation"
   ]
  },
  {
   "cell_type": "code",
   "execution_count": null,
   "id": "median-citation",
   "metadata": {},
   "outputs": [],
   "source": [
    "# Visualize largest connected component\n",
    "\n",
    "for i in range(gen+2):\n",
    "    print(\"Generation :\", i)\n",
    "\n",
    "    # read in file\n",
    "    gpickle_file = nx.read_gpickle(\"test_G{}.gpickle\".format(i))\n",
    "    G = gpickle_file\n",
    "    \n",
    "    Gcc = sorted(nx.connected_components(G), key=len, reverse=True)\n",
    "    G0 = G.subgraph(Gcc[0])\n",
    "    nx.draw(G0, node_size=15)\n",
    "    plt.show()"
   ]
  },
  {
   "cell_type": "code",
   "execution_count": null,
   "id": "magnetic-tolerance",
   "metadata": {},
   "outputs": [],
   "source": []
  }
 ],
 "metadata": {
  "kernelspec": {
   "display_name": "Python 3",
   "language": "python",
   "name": "python3"
  },
  "language_info": {
   "codemirror_mode": {
    "name": "ipython",
    "version": 3
   },
   "file_extension": ".py",
   "mimetype": "text/x-python",
   "name": "python",
   "nbconvert_exporter": "python",
   "pygments_lexer": "ipython3",
   "version": "3.8.0"
  }
 },
 "nbformat": 4,
 "nbformat_minor": 5
}
