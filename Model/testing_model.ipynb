{
 "cells": [
  {
   "cell_type": "code",
   "execution_count": null,
   "metadata": {},
   "outputs": [],
   "source": [
    "from family_network_model import *\n",
    "from matplotlib import pyplot as plt\n",
    "import networkx as nx\n",
    "import ast\n",
    "import pickle\n",
    "from get_model_parameters import *\n",
    "import ast"
   ]
  },
  {
   "cell_type": "code",
   "execution_count": null,
   "metadata": {},
   "outputs": [],
   "source": [
    "# infinite_distances dictionary shows 'name' of all networks in data\n",
    "with open('./UnionDistances/infinite_distances.txt') as f:\n",
    "    inf_distances = f.readline()\n",
    "infinite_distances = ast.literal_eval(inf_distances)\n",
    "infinite_distances"
   ]
  },
  {
   "cell_type": "markdown",
   "metadata": {},
   "source": [
    "## New and improved way to run model"
   ]
  },
  {
   "cell_type": "code",
   "execution_count": null,
   "metadata": {},
   "outputs": [],
   "source": [
    "# Get data--ignore the output that says \"Graph failed: ./Original_Sources/.DS_Store\n",
    "                                       # Error: marriage edges from ./Original_Sources/kinsources-warao-oregraph.paj\n",
    "                                       # Graph failed: ./Original_Sources/kinsources-warao-oregraph.paj\"\n",
    "\n",
    "# name of chosen network--see infinite_distances dictionary for help with names of networks (run second cell to see)\n",
    "name = 'tikopia_1930'\n",
    "\n",
    "# get data--number of marriage edges, probability of marriage, probability of nonconnected marriage parameters\n",
    "m_e, P, NCP = get_some_parameters(name)\n",
    "\n",
    "# get number of infinite distance unions\n",
    "with open('./UnionDistances/infinite_distances.txt') as f:\n",
    "    inf_distances = f.readline()\n",
    "infinite_distances = ast.literal_eval(inf_distances)\n",
    "# save number of infinite distance unions as a parameter\n",
    "inf_dis = infinite_distances[name]\n",
    "\n",
    "# marriage distance data of chosen network\n",
    "with open('./UnionDistances/{}_distances.txt'.format(name)) as f:\n",
    "    nx_dis = f.readline()\n",
    "# network's marriage distances w/o infinite distances distribution\n",
    "nx_distances = ast.literal_eval(nx_dis)\n",
    "\n",
    "# number of children data of chosen network\n",
    "with open('./ChildrenNumber/{}_children.txt'.format(name)) as f:\n",
    "    nx_child = f.readline()\n",
    "# network's number of children distribution\n",
    "nx_children = ast.literal_eval(nx_child)"
   ]
  },
  {
   "cell_type": "code",
   "execution_count": null,
   "metadata": {},
   "outputs": [],
   "source": [
    "# initialize parameters\n",
    "\n",
    "n = 99   # n+1 = number of people in initial network\n",
    "gen = 14  # gen+2 = total number of generations in network (use small number of generations for testing)\n",
    "name = name + '_test1' # change 'test' every time you run model if you want to save & differentiate the output\n",
    "\n",
    "marriage_dist = nx_distances\n",
    "children_dist = nx_children\n",
    "p = P\n",
    "ncp = NCP\n",
    "infdis = round((inf_dis/m_e - (NCP/2))*m_e)\n",
    "\n",
    "\n",
    "# run model\n",
    "G, D, unions, children, infdis = human_family_network(n, gen, marriage_dist, p, ncp, infdis, children_dist, name)\n",
    "\n",
    "# visualize resulting network\n",
    "nx.draw(G, with_labels=True, font_weight='bold')"
   ]
  },
  {
   "cell_type": "markdown",
   "metadata": {},
   "source": [
    "## Analyze Model"
   ]
  },
  {
   "cell_type": "code",
   "execution_count": null,
   "metadata": {},
   "outputs": [],
   "source": [
    "def model_marriage_dis(unions, D):\n",
    "    \"\"\"Find distances of marriages formed in modeled network--used to compare to original data of distances\n",
    "    Parameters:\n",
    "                unions (list): list of all unions in modeled network\n",
    "                D (array): matrix of distances between all nodes in modeled network\n",
    "    Returns:\n",
    "                distances (list): list of distances to marriage in modeled network\n",
    "    \n",
    "    \"\"\"\n",
    "\n",
    "    distances = []\n",
    "\n",
    "    for pair in unions:\n",
    "        p1, p2 = pair\n",
    "        distances.append(D[p1][p2])\n",
    "        \n",
    "    return distances"
   ]
  },
  {
   "cell_type": "markdown",
   "metadata": {},
   "source": [
    "### Visualize distribution of union distances at each generation"
   ]
  },
  {
   "cell_type": "code",
   "execution_count": null,
   "metadata": {},
   "outputs": [],
   "source": [
    "for i in range(0, gen+2):\n",
    "    print(\"Generation :\", i)\n",
    "\n",
    "    # read in files\n",
    "    gpickle_file = nx.read_gpickle(\"{}_G{}.gpickle\".format(name,i))\n",
    "    D_file = np.load(\"{}_D{}.npy\".format(name,i))\n",
    "    with open ('{}_U{}'.format(name,i), 'rb') as fup:\n",
    "        unions_file = pickle.load(fup)\n",
    "    with open('{}_C{}'.format(name,i), 'rb') as fcp:\n",
    "        children_file = pickle.load(fcp)\n",
    "\n",
    "    # assign names \n",
    "    G = gpickle_file\n",
    "    unions = unions_file\n",
    "    D = D_file\n",
    "    children = children_file\n",
    "\n",
    "    # network size\n",
    "    print(\"Number of nodes: \", len(G.nodes))\n",
    "\n",
    "    # visualize distances\n",
    "    distances = model_marriage_dis(unions, D)\n",
    "    d = np.array(distances)\n",
    "    mask1 = d < 100\n",
    "    mask2 = d >= 100\n",
    "    print(\"Number of marriages: \", len(unions))\n",
    "    print(\"Number of infinite marriages: \", len(d[mask2]))\n",
    "    \n",
    "    plt.hist(d[mask1])\n",
    "    plt.title(\"Generation {}\".format(i))\n",
    "    plt.show()\n",
    "\n",
    "plt.hist(nx_distances, color='r')\n",
    "plt.title(\"{} Network\".format(name))\n",
    "plt.show()"
   ]
  },
  {
   "cell_type": "markdown",
   "metadata": {},
   "source": [
    "### Visualize distribution of number of children at each generation"
   ]
  },
  {
   "cell_type": "code",
   "execution_count": null,
   "metadata": {},
   "outputs": [],
   "source": [
    "for i in range(1, gen+2):\n",
    "    print(\"Generation :\", i)\n",
    "\n",
    "    # read in files\n",
    "    gpickle_file = nx.read_gpickle(\"{}_G{}.gpickle\".format(name,i))\n",
    "    D_file = np.load(\"{}_D{}.npy\".format(name,i))\n",
    "    with open ('{}_U{}'.format(name,i), 'rb') as fup:\n",
    "        unions_file = pickle.load(fup)\n",
    "    with open('{}_C{}'.format(name,i), 'rb') as fcp:\n",
    "        children_file = pickle.load(fcp)\n",
    "\n",
    "    # assign names \n",
    "    G = gpickle_file\n",
    "    unions = unions_file\n",
    "    D = D_file\n",
    "    children = children_file\n",
    "\n",
    "    # network size\n",
    "    print(\"Number of nodes: \", len(G.nodes))\n",
    "\n",
    "    plt.hist(children, color='g', bins=6)\n",
    "    plt.title(\"Generation {}\".format(i))\n",
    "    plt.show()\n",
    "\n",
    "plt.hist(nx_children, color='r', bins=6)\n",
    "plt.title(\"{} Network\".format(name))\n",
    "plt.show()"
   ]
  },
  {
   "cell_type": "markdown",
   "metadata": {},
   "source": [
    "### Visualize largest connected component of network at each generation"
   ]
  },
  {
   "cell_type": "code",
   "execution_count": null,
   "metadata": {},
   "outputs": [],
   "source": [
    "# Visualize largest connected component\n",
    "\n",
    "for i in range(gen+2):\n",
    "    print(\"Generation :\", i)\n",
    "\n",
    "    # read in file\n",
    "    gpickle_file = nx.read_gpickle(\"{}_G{}.gpickle\".format(name,i))\n",
    "    G = gpickle_file\n",
    "    \n",
    "    Gcc = sorted(nx.connected_components(G), key=len, reverse=True)\n",
    "    G0 = G.subgraph(Gcc[0])\n",
    "    nx.draw(G0, node_size=15)\n",
    "    plt.show()"
   ]
  },
  {
   "cell_type": "code",
   "execution_count": null,
   "metadata": {},
   "outputs": [],
   "source": []
  }
 ],
 "metadata": {
  "kernelspec": {
   "display_name": "Python 3",
   "language": "python",
   "name": "python3"
  },
  "language_info": {
   "codemirror_mode": {
    "name": "ipython",
    "version": 3
   },
   "file_extension": ".py",
   "mimetype": "text/x-python",
   "name": "python",
   "nbconvert_exporter": "python",
   "pygments_lexer": "ipython3",
   "version": "3.7.1"
  }
 },
 "nbformat": 4,
 "nbformat_minor": 5
}
